{
 "cells": [
  {
   "cell_type": "markdown",
   "metadata": {},
   "source": [
    "# Projeto Dengue 2015 em FORTALEZA"
   ]
  },
  {
   "cell_type": "markdown",
   "metadata": {},
   "source": [
    "## Carregando bibliotecas"
   ]
  },
  {
   "cell_type": "code",
   "execution_count": 19,
   "metadata": {},
   "outputs": [],
   "source": [
    "import pandas as pd\n",
    "import seaborn as sb\n",
    "\n",
    "%matplotlib inline\n",
    "\n"
   ]
  },
  {
   "cell_type": "markdown",
   "metadata": {},
   "source": [
    "## Carregando SCV em um DataFrame"
   ]
  },
  {
   "cell_type": "code",
   "execution_count": 46,
   "metadata": {},
   "outputs": [
    {
     "data": {
      "text/html": [
       "<div>\n",
       "<style scoped>\n",
       "    .dataframe tbody tr th:only-of-type {\n",
       "        vertical-align: middle;\n",
       "    }\n",
       "\n",
       "    .dataframe tbody tr th {\n",
       "        vertical-align: top;\n",
       "    }\n",
       "\n",
       "    .dataframe thead th {\n",
       "        text-align: right;\n",
       "    }\n",
       "</style>\n",
       "<table border=\"1\" class=\"dataframe\">\n",
       "  <thead>\n",
       "    <tr style=\"text-align: right;\">\n",
       "      <th></th>\n",
       "      <th>NU_ANO</th>\n",
       "      <th>NU_IDADE_0</th>\n",
       "      <th>CS_SEXO</th>\n",
       "      <th>NM_BAIRRO</th>\n",
       "      <th>DS_OBS</th>\n",
       "    </tr>\n",
       "  </thead>\n",
       "  <tbody>\n",
       "    <tr>\n",
       "      <th>0</th>\n",
       "      <td>2015</td>\n",
       "      <td>32</td>\n",
       "      <td>F</td>\n",
       "      <td>FARIAS BRITO</td>\n",
       "      <td>CEFALEIA+ DOR UBITRAIRA+ FEBRE+ EXANTEMAS</td>\n",
       "    </tr>\n",
       "    <tr>\n",
       "      <th>1</th>\n",
       "      <td>2015</td>\n",
       "      <td>44</td>\n",
       "      <td>F</td>\n",
       "      <td>MESSEJANA</td>\n",
       "      <td>NaN</td>\n",
       "    </tr>\n",
       "    <tr>\n",
       "      <th>2</th>\n",
       "      <td>2015</td>\n",
       "      <td>22</td>\n",
       "      <td>M</td>\n",
       "      <td>CANINDEZINHO</td>\n",
       "      <td>NaN</td>\n",
       "    </tr>\n",
       "    <tr>\n",
       "      <th>3</th>\n",
       "      <td>2015</td>\n",
       "      <td>21</td>\n",
       "      <td>F</td>\n",
       "      <td>CANINDEZINHO</td>\n",
       "      <td>NaN</td>\n",
       "    </tr>\n",
       "    <tr>\n",
       "      <th>4</th>\n",
       "      <td>2015</td>\n",
       "      <td>17</td>\n",
       "      <td>M</td>\n",
       "      <td>LAGOA REDONDA</td>\n",
       "      <td>CEFALEIA,RETROORBITARIA,MIALGIA,EXANTEMA C/PRU...</td>\n",
       "    </tr>\n",
       "    <tr>\n",
       "      <th>5</th>\n",
       "      <td>2015</td>\n",
       "      <td>15</td>\n",
       "      <td>M</td>\n",
       "      <td>PARQUE DOIS IRMAOS</td>\n",
       "      <td>FEBRE,NÁUSEAS, EXANTEMA,CEFALEIA</td>\n",
       "    </tr>\n",
       "    <tr>\n",
       "      <th>6</th>\n",
       "      <td>2015</td>\n",
       "      <td>14</td>\n",
       "      <td>F</td>\n",
       "      <td>SERRINHA</td>\n",
       "      <td>CEFALEIA, MIALGIA E FEBRE HÁ 05 DIAS. COMPAREC...</td>\n",
       "    </tr>\n",
       "    <tr>\n",
       "      <th>7</th>\n",
       "      <td>2015</td>\n",
       "      <td>25</td>\n",
       "      <td>M</td>\n",
       "      <td>NaN</td>\n",
       "      <td>NaN</td>\n",
       "    </tr>\n",
       "    <tr>\n",
       "      <th>8</th>\n",
       "      <td>2015</td>\n",
       "      <td>22</td>\n",
       "      <td>F</td>\n",
       "      <td>PRESIDENTE KENNEDY</td>\n",
       "      <td>CEFALEIA,FEBRE,DOR NOS OLHOS,VOMITO</td>\n",
       "    </tr>\n",
       "    <tr>\n",
       "      <th>9</th>\n",
       "      <td>2015</td>\n",
       "      <td>11</td>\n",
       "      <td>F</td>\n",
       "      <td>BARROSO</td>\n",
       "      <td>FEBRE+CEFALEIA+DOR EM MMII+NAUSEAS HA 2 DIAS</td>\n",
       "    </tr>\n",
       "  </tbody>\n",
       "</table>\n",
       "</div>"
      ],
      "text/plain": [
       "   NU_ANO  NU_IDADE_0 CS_SEXO           NM_BAIRRO  \\\n",
       "0    2015          32       F        FARIAS BRITO   \n",
       "1    2015          44       F           MESSEJANA   \n",
       "2    2015          22       M        CANINDEZINHO   \n",
       "3    2015          21       F        CANINDEZINHO   \n",
       "4    2015          17       M       LAGOA REDONDA   \n",
       "5    2015          15       M  PARQUE DOIS IRMAOS   \n",
       "6    2015          14       F            SERRINHA   \n",
       "7    2015          25       M                 NaN   \n",
       "8    2015          22       F  PRESIDENTE KENNEDY   \n",
       "9    2015          11       F             BARROSO   \n",
       "\n",
       "                                              DS_OBS  \n",
       "0          CEFALEIA+ DOR UBITRAIRA+ FEBRE+ EXANTEMAS  \n",
       "1                                                NaN  \n",
       "2                                                NaN  \n",
       "3                                                NaN  \n",
       "4  CEFALEIA,RETROORBITARIA,MIALGIA,EXANTEMA C/PRU...  \n",
       "5                   FEBRE,NÁUSEAS, EXANTEMA,CEFALEIA  \n",
       "6  CEFALEIA, MIALGIA E FEBRE HÁ 05 DIAS. COMPAREC...  \n",
       "7                                                NaN  \n",
       "8                CEFALEIA,FEBRE,DOR NOS OLHOS,VOMITO  \n",
       "9       FEBRE+CEFALEIA+DOR EM MMII+NAUSEAS HA 2 DIAS  "
      ]
     },
     "execution_count": 46,
     "metadata": {},
     "output_type": "execute_result"
    }
   ],
   "source": [
    "df = pd.read_csv('dengue2015.csv', sep=';', encoding='1250' , usecols=[5,17,19,29,97] )\n",
    "\n",
    "\n",
    "\n",
    "df.head(10)\n"
   ]
  },
  {
   "cell_type": "markdown",
   "metadata": {},
   "source": [
    "## Vendo os DADOS com plot bar"
   ]
  },
  {
   "cell_type": "code",
   "execution_count": 3,
   "metadata": {
    "scrolled": true
   },
   "outputs": [
    {
     "data": {
      "text/plain": [
       "F    14398\n",
       "M    12167\n",
       "I        8\n",
       "Name: CS_SEXO, dtype: int64"
      ]
     },
     "execution_count": 3,
     "metadata": {},
     "output_type": "execute_result"
    }
   ],
   "source": [
    "df['CS_SEXO'].value_counts()"
   ]
  },
  {
   "cell_type": "code",
   "execution_count": 18,
   "metadata": {},
   "outputs": [
    {
     "data": {
      "text/plain": [
       "<matplotlib.axes._subplots.AxesSubplot at 0x7f944a8158d0>"
      ]
     },
     "execution_count": 18,
     "metadata": {},
     "output_type": "execute_result"
    },
    {
     "data": {
      "image/png": "[encoded data removed]",
      "text/plain": [
       "<Figure size 432x288 with 1 Axes>"
      ]
     },
     "metadata": {
      "needs_background": "light"
     },
     "output_type": "display_data"
    }
   ],
   "source": [
    "df['CS_SEXO'].value_counts().plot.bar()"
   ]
  },
  {
   "cell_type": "code",
   "execution_count": 34,
   "metadata": {},
   "outputs": [
    {
     "data": {
      "text/plain": [
       "<seaborn.axisgrid.PairGrid at 0x7f944713b780>"
      ]
     },
     "execution_count": 34,
     "metadata": {},
     "output_type": "execute_result"
    },
    {
     "data": {
      "image/png": "[encoded data removed]",
      "text/plain": [
       "<Figure size 413.25x360 with 6 Axes>"
      ]
     },
     "metadata": {
      "needs_background": "light"
     },
     "output_type": "display_data"
    }
   ],
   "source": [
    "sb.pairplot(df , hue ='CS_SEXO')"
   ]
  },
  {
   "cell_type": "code",
   "execution_count": null,
   "metadata": {},
   "outputs": [],
   "source": []
  }
 ],
 "metadata": {
  "kernelspec": {
   "display_name": "Python 3",
   "language": "python",
   "name": "python3"
  },
  "language_info": {
   "codemirror_mode": {
    "name": "ipython",
    "version": 3
   },
   "file_extension": ".py",
   "mimetype": "text/x-python",
   "name": "python",
   "nbconvert_exporter": "python",
   "pygments_lexer": "ipython3",
   "version": "3.7.3"
  }
 },
 "nbformat": 4,
 "nbformat_minor": 2
}
